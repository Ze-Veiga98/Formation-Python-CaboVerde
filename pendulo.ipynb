{
 "cells": [
  {
   "cell_type": "markdown",
   "metadata": {},
   "source": [
    "# Datalhes da experiencia do pendulo.\n",
    "\n",
    "| Massa da esfera | Diametro da esfera | Percurso da esfera através de laser | Constante de elasticidade |\n",
    "| :- | -: | :-: | :-: |\n",
    "| 2kG +/- 75G | 81mm +/- 0.5mm | ~81mm | 200GPa |\n",
    "\n",
    "\n",
    "Para mais informação accesar o link abaixo.\n",
    "\n",
    "\n",
    "\n",
    "\n",
    "\n",
    "\n",
    "\n",
    "## Importar bibliotecas necessárias"
   ]
  },
  {
   "cell_type": "code",
   "execution_count": 114,
   "metadata": {},
   "outputs": [],
   "source": [
    "#%matplotlib inline # Para visualização dos plots abaixo onde codigo que gera esse plot foi escrito.\n",
    "import pandas as pd # Para exploração dos dados de forma rápida.\n",
    "import numpy as np # Para cálculos algebricos (vectores & matrizes).\n",
    "import matplotlib.pyplot as plt # Para visualização dos dados.\n",
    "import matplotlib.colors as colors # cores\n",
    "import warnings\n",
    "warnings.filterwarnings(\"ignore\")\n",
    "np.seterr(divide='ignore', invalid='ignore')\n",
    "from matplotlib.ticker import FormatStrFormatter\n",
    "import matplotlib.ticker\n"
   ]
  },
  {
   "cell_type": "markdown",
   "metadata": {},
   "source": [
    "####  1. Carregamento e exploração dos dados."
   ]
  },
  {
   "cell_type": "code",
   "execution_count": 68,
   "metadata": {},
   "outputs": [],
   "source": [
    "# Criar uma função para fazer o import dos dados.\n",
    "def read_data(filename):\n",
    "    df = pd.read_excel(filename, skiprows = 1)\n",
    "    return df"
   ]
  },
  {
   "cell_type": "code",
   "execution_count": 69,
   "metadata": {},
   "outputs": [],
   "source": [
    "file = 'Dados/Pendulum_results__19-7-2022  15_15_17.xlsx'\n",
    "\n",
    "# Ler meus dados\n",
    "df = read_data(file)"
   ]
  },
  {
   "cell_type": "code",
   "execution_count": 70,
   "metadata": {},
   "outputs": [
    {
     "data": {
      "text/html": [
       "<div>\n",
       "<style scoped>\n",
       "    .dataframe tbody tr th:only-of-type {\n",
       "        vertical-align: middle;\n",
       "    }\n",
       "\n",
       "    .dataframe tbody tr th {\n",
       "        vertical-align: top;\n",
       "    }\n",
       "\n",
       "    .dataframe thead th {\n",
       "        text-align: right;\n",
       "    }\n",
       "</style>\n",
       "<table border=\"1\" class=\"dataframe\">\n",
       "  <thead>\n",
       "    <tr style=\"text-align: right;\">\n",
       "      <th></th>\n",
       "      <th>Sample Number</th>\n",
       "      <th>Period [s]</th>\n",
       "      <th>g [m/s^2]</th>\n",
       "      <th>Velocity [cm/s]</th>\n",
       "      <th>Temperature [ºC]</th>\n",
       "    </tr>\n",
       "  </thead>\n",
       "  <tbody>\n",
       "    <tr>\n",
       "      <th>0</th>\n",
       "      <td>1</td>\n",
       "      <td>3.193712</td>\n",
       "      <td>9.761427</td>\n",
       "      <td>32.418556</td>\n",
       "      <td>21.84</td>\n",
       "    </tr>\n",
       "    <tr>\n",
       "      <th>1</th>\n",
       "      <td>2</td>\n",
       "      <td>3.193704</td>\n",
       "      <td>9.761478</td>\n",
       "      <td>32.383606</td>\n",
       "      <td>21.89</td>\n",
       "    </tr>\n",
       "    <tr>\n",
       "      <th>2</th>\n",
       "      <td>3</td>\n",
       "      <td>3.193729</td>\n",
       "      <td>9.761324</td>\n",
       "      <td>32.354523</td>\n",
       "      <td>21.89</td>\n",
       "    </tr>\n",
       "    <tr>\n",
       "      <th>3</th>\n",
       "      <td>4</td>\n",
       "      <td>3.193784</td>\n",
       "      <td>9.760985</td>\n",
       "      <td>32.338100</td>\n",
       "      <td>21.91</td>\n",
       "    </tr>\n",
       "    <tr>\n",
       "      <th>4</th>\n",
       "      <td>5</td>\n",
       "      <td>3.193745</td>\n",
       "      <td>9.761226</td>\n",
       "      <td>32.316158</td>\n",
       "      <td>21.94</td>\n",
       "    </tr>\n",
       "  </tbody>\n",
       "</table>\n",
       "</div>"
      ],
      "text/plain": [
       "   Sample Number  Period [s]  g [m/s^2]  Velocity [cm/s]  Temperature [ºC]\n",
       "0              1    3.193712   9.761427        32.418556             21.84\n",
       "1              2    3.193704   9.761478        32.383606             21.89\n",
       "2              3    3.193729   9.761324        32.354523             21.89\n",
       "3              4    3.193784   9.760985        32.338100             21.91\n",
       "4              5    3.193745   9.761226        32.316158             21.94"
      ]
     },
     "execution_count": 70,
     "metadata": {},
     "output_type": "execute_result"
    }
   ],
   "source": [
    "df.head() # Visualizar somente as primeiras 5 linhas"
   ]
  },
  {
   "cell_type": "code",
   "execution_count": 71,
   "metadata": {},
   "outputs": [
    {
     "data": {
      "text/plain": [
       "Sample Number         int64\n",
       "Period [s]          float64\n",
       "g [m/s^2]           float64\n",
       "Velocity [cm/s]     float64\n",
       "Temperature [ºC]    float64\n",
       "dtype: object"
      ]
     },
     "execution_count": 71,
     "metadata": {},
     "output_type": "execute_result"
    }
   ],
   "source": [
    "df.dtypes # tipo de dados"
   ]
  },
  {
   "cell_type": "code",
   "execution_count": 72,
   "metadata": {},
   "outputs": [
    {
     "data": {
      "text/plain": [
       "array([ 1,  2,  3,  4,  5,  6,  7,  8,  9, 10, 11, 12, 13, 14, 15, 16, 17,\n",
       "       18, 19, 20, 21, 22, 23, 24, 25, 26, 27])"
      ]
     },
     "execution_count": 72,
     "metadata": {},
     "output_type": "execute_result"
    }
   ],
   "source": [
    "# accesar aos valores de cada coluna\n",
    "# 3 possiveis soluções\n",
    "df['Sample Number'].values\n",
    "df.iloc[:,0].values\n",
    "df.loc[0:, 'Sample Number'].values"
   ]
  },
  {
   "cell_type": "code",
   "execution_count": 73,
   "metadata": {},
   "outputs": [],
   "source": [
    "# Converter cm/s -> m/s\n",
    "#df['Velocity [cm/s]'] = df['Velocity [cm/s]'] * 0.01"
   ]
  },
  {
   "cell_type": "code",
   "execution_count": null,
   "metadata": {},
   "outputs": [],
   "source": []
  },
  {
   "cell_type": "code",
   "execution_count": 74,
   "metadata": {},
   "outputs": [],
   "source": [
    "#df.rename({'Velocity [cm/s]':'Velocity [m/s]'},axis = 1, inplace = True)"
   ]
  },
  {
   "cell_type": "code",
   "execution_count": 75,
   "metadata": {},
   "outputs": [],
   "source": [
    "# Erros das medições\n",
    "error_period = 0.005\n",
    "error_velocity = 0.1"
   ]
  },
  {
   "cell_type": "markdown",
   "metadata": {},
   "source": [
    "### 2. Visualização.\n",
    "\n",
    "Velocidade e periodo do pendulo por números de amostras adquiridas."
   ]
  },
  {
   "cell_type": "code",
   "execution_count": 120,
   "metadata": {},
   "outputs": [
    {
     "data": {
      "image/png": "[encoded data removed]",
      "text/plain": [
       "<Figure size 1080x360 with 2 Axes>"
      ]
     },
     "metadata": {},
     "output_type": "display_data"
    }
   ],
   "source": [
    "fig, (ax1, ax2) = plt.subplots(1, 2, figsize=(15,5), sharex=True)\n",
    "fig.subplots_adjust(left=None, bottom=None, right=None, top=None, wspace=0.3, hspace=None)\n",
    "\n",
    "ax1.plot(df.iloc[:,0].values, df.iloc[:,3].values, color='blue', label='Velocidadde linear do pendulo')\n",
    "#ax1.errorbar(df.iloc[:,0].values, df.iloc[:,3].values, yerr=error_velocity,\n",
    "   #          fmt='o', capsize=5, capthick=1, ecolor='black',\n",
    "    #        label='Velocidade linear do pendulo')\n",
    "\n",
    "ax1.set_xlabel(\"# Número de amostras\", fontsize=15)\n",
    "ax1.set_ylabel(\"Velocidade linear (cm/s)\", fontsize=15)\n",
    "ax1.tick_params(axis='both', which='major', labelsize=12)\n",
    "\n",
    "\n",
    "\n",
    "ax1.grid(linewidth=0.45)\n",
    "\n",
    "#ax1.plot(df.iloc[:,0].values, df.iloc[:,3].values, color='tab:blue', label='Velocity(km/h)')\n",
    "ax2.yaxis.set_major_formatter(FormatStrFormatter('%0.5f'))\n",
    "ax2.plot(df.iloc[:,0].values, df.iloc[:,1].to_numpy(), color='red',\n",
    "            label='Periodo do pendulo')\n",
    "\n",
    "ax2.set_xlabel(\"# Número de amostras\", fontsize=15)\n",
    "ax2.set_ylabel(\"Periodo (s)\", fontsize=15)\n",
    "ax2.tick_params(axis='both', which='major', labelsize=12)\n",
    "\n",
    "\n",
    "ax2.grid(linewidth=0.45)\n",
    "\n",
    "\n",
    "plt.savefig('Figuras/vel_amostra' + '.pdf', format='pdf', dpi=300, bbox_inches='tight') "
   ]
  },
  {
   "cell_type": "markdown",
   "metadata": {},
   "source": [
    "Histograma das medidas de periodo"
   ]
  },
  {
   "cell_type": "code",
   "execution_count": 122,
   "metadata": {},
   "outputs": [
    {
     "data": {
      "image/png": "[encoded data removed]",
      "text/plain": [
       "<Figure size 432x288 with 1 Axes>"
      ]
     },
     "metadata": {},
     "output_type": "display_data"
    }
   ],
   "source": [
    "# the histogram of the data\n",
    "periodo  = df.iloc[:,1].values\n",
    "\n",
    "fig, ax = plt.subplots()\n",
    "ax.xaxis.set_major_formatter(FormatStrFormatter('%0.5f'))\n",
    "n, bins, patches = plt.hist(periodo, bins=12)\n",
    "plt.grid(linewidth=0.45)\n",
    "\n",
    "plt.xlabel('Periodo (s)', fontsize=15)\n",
    "plt.ylabel('Número de eventos', fontsize=15)\n",
    "plt.tick_params(axis='both', which='major', labelsize=12)\n",
    "plt.tight_layout()\n",
    "#plt.show()\n",
    "\n",
    "plt.savefig('./Figuras/periodo_histograma' + '.pdf',bbox_inches='tight',format='pdf', dpi=150) "
   ]
  },
  {
   "cell_type": "code",
   "execution_count": null,
   "metadata": {},
   "outputs": [],
   "source": []
  }
 ],
 "metadata": {
  "kernelspec": {
   "display_name": "Python 3",
   "language": "python",
   "name": "python3"
  },
  "language_info": {
   "codemirror_mode": {
    "name": "ipython",
    "version": 3
   },
   "file_extension": ".py",
   "mimetype": "text/x-python",
   "name": "python",
   "nbconvert_exporter": "python",
   "pygments_lexer": "ipython3",
   "version": "3.6.11"
  }
 },
 "nbformat": 4,
 "nbformat_minor": 2
}
