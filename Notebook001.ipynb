from math import (sqrt, pow)

# comentáriio de uma linha de código
"""
Comentário de uma instrução
"""

